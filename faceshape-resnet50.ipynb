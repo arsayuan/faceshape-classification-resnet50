{
  "metadata": {
    "kernelspec": {
      "display_name": "Python 3",
      "name": "python3"
    },
    "language_info": {
      "name": "python",
      "version": "3.10.14",
      "mimetype": "text/x-python",
      "codemirror_mode": {
        "name": "ipython",
        "version": 3
      },
      "pygments_lexer": "ipython3",
      "nbconvert_exporter": "python",
      "file_extension": ".py"
    },
    "kaggle": {
      "accelerator": "nvidiaTeslaT4",
      "dataSources": [
        {
          "sourceId": 10032109,
          "sourceType": "datasetVersion",
          "datasetId": 6178832
        },
        {
          "sourceId": 10062771,
          "sourceType": "datasetVersion",
          "datasetId": 6201306
        },
        {
          "sourceId": 10063295,
          "sourceType": "datasetVersion",
          "datasetId": 6201650
        },
        {
          "sourceId": 10078556,
          "sourceType": "datasetVersion",
          "datasetId": 6212956
        }
      ],
      "dockerImageVersionId": 30787,
      "isInternetEnabled": true,
      "language": "python",
      "sourceType": "notebook",
      "isGpuEnabled": true
    },
    "colab": {
      "provenance": [],
      "gpuType": "T4"
    },
    "accelerator": "GPU"
  },
  "nbformat_minor": 0,
  "nbformat": 4,
  "cells": [
    {
      "cell_type": "code",
      "source": [
        "from google.colab import drive\n",
        "drive.mount('/content/drive')"
      ],
      "metadata": {
        "colab": {
          "base_uri": "https://localhost:8080/"
        },
        "id": "Eghe8VV4bL0E",
        "outputId": "d9987fd3-33c8-4c69-d6b2-22f688734f34"
      },
      "execution_count": null,
      "outputs": [
        {
          "output_type": "stream",
          "name": "stdout",
          "text": [
            "Mounted at /content/drive\n"
          ]
        }
      ]
    },
    {
      "cell_type": "markdown",
      "source": [
        "# Import Library"
      ],
      "metadata": {
        "id": "9LlvT0JQbDnr"
      }
    },
    {
      "cell_type": "code",
      "source": [
        "import os\n",
        "import pandas as pd\n",
        "import numpy as np\n",
        "import matplotlib.pyplot as plt\n",
        "import seaborn as sns\n",
        "from PIL import Image\n",
        "from tensorflow.keras.preprocessing.image import ImageDataGenerator\n",
        "from tensorflow.keras.models import Sequential, Model\n",
        "from tensorflow.keras.layers import Dense, Dropout, Flatten, BatchNormalization, GlobalAveragePooling2D\n",
        "from tensorflow.keras.applications import MobileNetV2, EfficientNetB0, ResNet50, VGG16\n",
        "from tensorflow.keras.applications.mobilenet_v2 import preprocess_input\n",
        "from tensorflow.keras.optimizers import Adam, RMSprop\n",
        "from sklearn.metrics import classification_report, confusion_matrix\n",
        "from tensorflow.keras.regularizers import l2\n",
        "import tensorflow as tf\n"
      ],
      "metadata": {
        "trusted": true,
        "execution": {
          "iopub.status.busy": "2024-12-04T08:36:16.115958Z",
          "iopub.execute_input": "2024-12-04T08:36:16.116312Z",
          "iopub.status.idle": "2024-12-04T08:36:19.562431Z",
          "shell.execute_reply.started": "2024-12-04T08:36:16.116282Z",
          "shell.execute_reply": "2024-12-04T08:36:19.561636Z"
        },
        "id": "TCsCYS28bDns"
      },
      "outputs": [],
      "execution_count": null
    },
    {
      "cell_type": "markdown",
      "source": [
        "# EDA"
      ],
      "metadata": {
        "id": "mKOCTu9TbDnt"
      }
    },
    {
      "cell_type": "code",
      "source": [
        "train_dir= '/content/drive/MyDrive/extracted_faces/train'\n",
        "test_dir= '/content/drive/MyDrive/extracted_faces/test'\n",
        "val_dir= '/content/drive/MyDrive/extracted_faces/validation'"
      ],
      "metadata": {
        "trusted": true,
        "execution": {
          "iopub.status.busy": "2024-12-04T08:36:25.302180Z",
          "iopub.execute_input": "2024-12-04T08:36:25.303129Z",
          "iopub.status.idle": "2024-12-04T08:36:25.306908Z",
          "shell.execute_reply.started": "2024-12-04T08:36:25.303094Z",
          "shell.execute_reply": "2024-12-04T08:36:25.306064Z"
        },
        "id": "XWpfB-vgbDnu"
      },
      "outputs": [],
      "execution_count": null
    },
    {
      "cell_type": "code",
      "source": [
        "def explore_dataset(directory):\n",
        "    class_counts = {}\n",
        "    for class_name in os.listdir(directory):\n",
        "        class_dir = os.path.join(directory, class_name)\n",
        "        if os.path.isdir(class_dir):\n",
        "            class_counts[class_name] = len(os.listdir(class_dir))\n",
        "    return class_counts\n",
        "\n",
        "print(\"Train Dataset:\", explore_dataset(train_dir))\n",
        "print(\"Test Dataset:\", explore_dataset(test_dir))\n",
        "print(\"Test Dataset:\", explore_dataset(val_dir))"
      ],
      "metadata": {
        "trusted": true,
        "execution": {
          "iopub.status.busy": "2024-12-04T08:36:30.166586Z",
          "iopub.execute_input": "2024-12-04T08:36:30.167256Z",
          "iopub.status.idle": "2024-12-04T08:36:30.215784Z",
          "shell.execute_reply.started": "2024-12-04T08:36:30.167220Z",
          "shell.execute_reply": "2024-12-04T08:36:30.214894Z"
        },
        "colab": {
          "base_uri": "https://localhost:8080/"
        },
        "id": "4lJ9zER-bDnu",
        "outputId": "f57a7aa0-e430-48be-c3ad-9df94d6bc323"
      },
      "outputs": [
        {
          "output_type": "stream",
          "name": "stdout",
          "text": [
            "Train Dataset: {'Square': 798, 'Oval': 800, 'Heart': 799, 'Round': 800, 'Oblong': 809}\n",
            "Test Dataset: {'Oblong': 100, 'Square': 100, 'Oval': 100, 'Heart': 105, 'Round': 100}\n",
            "Test Dataset: {'Oblong': 100, 'Square': 100, 'Oval': 100, 'Heart': 105, 'Round': 100}\n"
          ]
        }
      ],
      "execution_count": null
    },
    {
      "cell_type": "markdown",
      "source": [
        "# Image Prepocessing"
      ],
      "metadata": {
        "id": "6hjVrPSjbDnv"
      }
    },
    {
      "cell_type": "code",
      "source": [
        "# Hyperparameters\n",
        "BATCH_SIZE = 32\n",
        "EPOCHS = 50"
      ],
      "metadata": {
        "trusted": true,
        "execution": {
          "iopub.status.busy": "2024-12-04T08:36:35.220071Z",
          "iopub.execute_input": "2024-12-04T08:36:35.220921Z",
          "iopub.status.idle": "2024-12-04T08:36:35.224441Z",
          "shell.execute_reply.started": "2024-12-04T08:36:35.220883Z",
          "shell.execute_reply": "2024-12-04T08:36:35.223546Z"
        },
        "id": "cZ1YjwDGbDnv"
      },
      "outputs": [],
      "execution_count": null
    },
    {
      "cell_type": "code",
      "source": [
        "classes = [class_name for class_name in os.listdir(train_dir)]\n",
        "def create_df(folder_path) :\n",
        "    all_images = []\n",
        "    for class_name in classes :\n",
        "        class_path = os.path.join(folder_path, class_name)\n",
        "        all_images.extend([(os.path.join(class_path, file_name), class_name) for file_name in os.listdir(class_path)])\n",
        "    df = pd.DataFrame(all_images, columns=['file_path', 'label'])\n",
        "    return df"
      ],
      "metadata": {
        "trusted": true,
        "execution": {
          "iopub.status.busy": "2024-12-04T08:36:39.995377Z",
          "iopub.execute_input": "2024-12-04T08:36:39.996042Z",
          "iopub.status.idle": "2024-12-04T08:36:40.003644Z",
          "shell.execute_reply.started": "2024-12-04T08:36:39.996010Z",
          "shell.execute_reply": "2024-12-04T08:36:40.002939Z"
        },
        "id": "Wt7xByibbDnv"
      },
      "outputs": [],
      "execution_count": null
    },
    {
      "cell_type": "code",
      "source": [
        "train_df = create_df(train_dir)\n",
        "test_df = create_df(test_dir)\n",
        "val_df = create_df(val_dir)"
      ],
      "metadata": {
        "trusted": true,
        "execution": {
          "iopub.status.busy": "2024-12-04T08:36:44.549383Z",
          "iopub.execute_input": "2024-12-04T08:36:44.550181Z",
          "iopub.status.idle": "2024-12-04T08:36:44.742668Z",
          "shell.execute_reply.started": "2024-12-04T08:36:44.550144Z",
          "shell.execute_reply": "2024-12-04T08:36:44.742022Z"
        },
        "id": "wQ1LzVe4bDnv"
      },
      "outputs": [],
      "execution_count": null
    },
    {
      "cell_type": "code",
      "source": [
        "# 2. Image Preprocessing\n",
        "train_datagen = ImageDataGenerator(\n",
        "    rescale=1./255\n",
        ")\n",
        "\n",
        "test_datagen = ImageDataGenerator(rescale=1./255)\n",
        "val_datagen = ImageDataGenerator(rescale=1./255)"
      ],
      "metadata": {
        "trusted": true,
        "execution": {
          "iopub.status.busy": "2024-12-04T08:36:49.844687Z",
          "iopub.execute_input": "2024-12-04T08:36:49.845086Z",
          "iopub.status.idle": "2024-12-04T08:36:49.850362Z",
          "shell.execute_reply.started": "2024-12-04T08:36:49.845048Z",
          "shell.execute_reply": "2024-12-04T08:36:49.849306Z"
        },
        "id": "B2cCieiRbDnw"
      },
      "outputs": [],
      "execution_count": null
    },
    {
      "cell_type": "code",
      "source": [
        "train_generator = train_datagen.flow_from_dataframe(\n",
        "    dataframe=train_df,\n",
        "    x_col='file_path',\n",
        "    y_col='label',\n",
        "    target_size=(224,224),\n",
        "    batch_size=BATCH_SIZE,\n",
        "    class_mode='categorical',\n",
        "    shuffle=True\n",
        ")\n",
        "\n",
        "test_generator = test_datagen.flow_from_dataframe(\n",
        "    dataframe=test_df,\n",
        "    x_col='file_path',\n",
        "    y_col='label',\n",
        "    target_size=(224,224),\n",
        "    batch_size=BATCH_SIZE,\n",
        "    class_mode='categorical',\n",
        "    shuffle=False\n",
        ")\n",
        "\n",
        "val_generator = val_datagen.flow_from_dataframe(\n",
        "    dataframe=val_df,\n",
        "    x_col='file_path',\n",
        "    y_col='label',\n",
        "    target_size=(224,224),\n",
        "    batch_size=BATCH_SIZE,\n",
        "    class_mode='categorical',\n",
        "    shuffle=False\n",
        ")"
      ],
      "metadata": {
        "trusted": true,
        "execution": {
          "iopub.status.busy": "2024-12-04T08:36:59.659033Z",
          "iopub.execute_input": "2024-12-04T08:36:59.659898Z",
          "iopub.status.idle": "2024-12-04T08:37:06.010917Z",
          "shell.execute_reply.started": "2024-12-04T08:36:59.659861Z",
          "shell.execute_reply": "2024-12-04T08:37:06.009990Z"
        },
        "colab": {
          "base_uri": "https://localhost:8080/"
        },
        "id": "9vmB-Gw8bDnw",
        "outputId": "7227cd91-0e74-46d8-dd53-3e566719d892"
      },
      "outputs": [
        {
          "output_type": "stream",
          "name": "stdout",
          "text": [
            "Found 4006 validated image filenames belonging to 5 classes.\n",
            "Found 505 validated image filenames belonging to 5 classes.\n",
            "Found 505 validated image filenames belonging to 5 classes.\n"
          ]
        }
      ],
      "execution_count": null
    },
    {
      "cell_type": "markdown",
      "source": [
        "# Modelling"
      ],
      "metadata": {
        "id": "HoPmFGgSbDnw"
      }
    },
    {
      "cell_type": "code",
      "source": [
        "base_model = ResNet50(weights='imagenet', include_top=False, input_shape=(224, 224, 3))\n",
        "base_model.trainable = True\n",
        "\n",
        "model = Sequential([\n",
        "    base_model,\n",
        "    GlobalAveragePooling2D(),\n",
        "    Dense(128, activation=\"relu\"),\n",
        "    Dropout(0.5),\n",
        "    Dense(5, activation=\"softmax\")\n",
        "])\n",
        "\n"
      ],
      "metadata": {
        "trusted": true,
        "execution": {
          "iopub.status.busy": "2024-12-04T08:41:39.298573Z",
          "iopub.execute_input": "2024-12-04T08:41:39.299433Z",
          "iopub.status.idle": "2024-12-04T08:41:40.272872Z",
          "shell.execute_reply.started": "2024-12-04T08:41:39.299396Z",
          "shell.execute_reply": "2024-12-04T08:41:40.272148Z"
        },
        "colab": {
          "base_uri": "https://localhost:8080/"
        },
        "id": "rf7RNEJZbDnx",
        "outputId": "fb37f55f-056b-49e2-e6ae-855d3a12b068"
      },
      "outputs": [
        {
          "output_type": "stream",
          "name": "stdout",
          "text": [
            "Downloading data from https://storage.googleapis.com/tensorflow/keras-applications/resnet/resnet50_weights_tf_dim_ordering_tf_kernels_notop.h5\n",
            "\u001b[1m94765736/94765736\u001b[0m \u001b[32m━━━━━━━━━━━━━━━━━━━━\u001b[0m\u001b[37m\u001b[0m \u001b[1m0s\u001b[0m 0us/step\n"
          ]
        }
      ],
      "execution_count": null
    },
    {
      "cell_type": "code",
      "source": [
        "model.summary()"
      ],
      "metadata": {
        "trusted": true,
        "execution": {
          "iopub.status.busy": "2024-12-04T08:41:45.099263Z",
          "iopub.execute_input": "2024-12-04T08:41:45.100127Z",
          "iopub.status.idle": "2024-12-04T08:41:45.123250Z",
          "shell.execute_reply.started": "2024-12-04T08:41:45.100090Z",
          "shell.execute_reply": "2024-12-04T08:41:45.122580Z"
        },
        "colab": {
          "base_uri": "https://localhost:8080/",
          "height": 305
        },
        "id": "KY-Q1X7vbDnx",
        "outputId": "9b9d712d-f1c4-493f-88a0-3674178108a0"
      },
      "outputs": [
        {
          "output_type": "display_data",
          "data": {
            "text/plain": [
              "\u001b[1mModel: \"sequential\"\u001b[0m\n"
            ],
            "text/html": [
              "<pre style=\"white-space:pre;overflow-x:auto;line-height:normal;font-family:Menlo,'DejaVu Sans Mono',consolas,'Courier New',monospace\"><span style=\"font-weight: bold\">Model: \"sequential\"</span>\n",
              "</pre>\n"
            ]
          },
          "metadata": {}
        },
        {
          "output_type": "display_data",
          "data": {
            "text/plain": [
              "┏━━━━━━━━━━━━━━━━━━━━━━━━━━━━━━━━━━━━━━┳━━━━━━━━━━━━━━━━━━━━━━━━━━━━━┳━━━━━━━━━━━━━━━━━┓\n",
              "┃\u001b[1m \u001b[0m\u001b[1mLayer (type)                        \u001b[0m\u001b[1m \u001b[0m┃\u001b[1m \u001b[0m\u001b[1mOutput Shape               \u001b[0m\u001b[1m \u001b[0m┃\u001b[1m \u001b[0m\u001b[1m        Param #\u001b[0m\u001b[1m \u001b[0m┃\n",
              "┡━━━━━━━━━━━━━━━━━━━━━━━━━━━━━━━━━━━━━━╇━━━━━━━━━━━━━━━━━━━━━━━━━━━━━╇━━━━━━━━━━━━━━━━━┩\n",
              "│ resnet50 (\u001b[38;5;33mFunctional\u001b[0m)                │ (\u001b[38;5;45mNone\u001b[0m, \u001b[38;5;34m7\u001b[0m, \u001b[38;5;34m7\u001b[0m, \u001b[38;5;34m2048\u001b[0m)          │      \u001b[38;5;34m23,587,712\u001b[0m │\n",
              "├──────────────────────────────────────┼─────────────────────────────┼─────────────────┤\n",
              "│ global_average_pooling2d             │ (\u001b[38;5;45mNone\u001b[0m, \u001b[38;5;34m2048\u001b[0m)                │               \u001b[38;5;34m0\u001b[0m │\n",
              "│ (\u001b[38;5;33mGlobalAveragePooling2D\u001b[0m)             │                             │                 │\n",
              "├──────────────────────────────────────┼─────────────────────────────┼─────────────────┤\n",
              "│ dense (\u001b[38;5;33mDense\u001b[0m)                        │ (\u001b[38;5;45mNone\u001b[0m, \u001b[38;5;34m128\u001b[0m)                 │         \u001b[38;5;34m262,272\u001b[0m │\n",
              "├──────────────────────────────────────┼─────────────────────────────┼─────────────────┤\n",
              "│ dropout (\u001b[38;5;33mDropout\u001b[0m)                    │ (\u001b[38;5;45mNone\u001b[0m, \u001b[38;5;34m128\u001b[0m)                 │               \u001b[38;5;34m0\u001b[0m │\n",
              "├──────────────────────────────────────┼─────────────────────────────┼─────────────────┤\n",
              "│ dense_1 (\u001b[38;5;33mDense\u001b[0m)                      │ (\u001b[38;5;45mNone\u001b[0m, \u001b[38;5;34m5\u001b[0m)                   │             \u001b[38;5;34m645\u001b[0m │\n",
              "└──────────────────────────────────────┴─────────────────────────────┴─────────────────┘\n"
            ],
            "text/html": [
              "<pre style=\"white-space:pre;overflow-x:auto;line-height:normal;font-family:Menlo,'DejaVu Sans Mono',consolas,'Courier New',monospace\">┏━━━━━━━━━━━━━━━━━━━━━━━━━━━━━━━━━━━━━━┳━━━━━━━━━━━━━━━━━━━━━━━━━━━━━┳━━━━━━━━━━━━━━━━━┓\n",
              "┃<span style=\"font-weight: bold\"> Layer (type)                         </span>┃<span style=\"font-weight: bold\"> Output Shape                </span>┃<span style=\"font-weight: bold\">         Param # </span>┃\n",
              "┡━━━━━━━━━━━━━━━━━━━━━━━━━━━━━━━━━━━━━━╇━━━━━━━━━━━━━━━━━━━━━━━━━━━━━╇━━━━━━━━━━━━━━━━━┩\n",
              "│ resnet50 (<span style=\"color: #0087ff; text-decoration-color: #0087ff\">Functional</span>)                │ (<span style=\"color: #00d7ff; text-decoration-color: #00d7ff\">None</span>, <span style=\"color: #00af00; text-decoration-color: #00af00\">7</span>, <span style=\"color: #00af00; text-decoration-color: #00af00\">7</span>, <span style=\"color: #00af00; text-decoration-color: #00af00\">2048</span>)          │      <span style=\"color: #00af00; text-decoration-color: #00af00\">23,587,712</span> │\n",
              "├──────────────────────────────────────┼─────────────────────────────┼─────────────────┤\n",
              "│ global_average_pooling2d             │ (<span style=\"color: #00d7ff; text-decoration-color: #00d7ff\">None</span>, <span style=\"color: #00af00; text-decoration-color: #00af00\">2048</span>)                │               <span style=\"color: #00af00; text-decoration-color: #00af00\">0</span> │\n",
              "│ (<span style=\"color: #0087ff; text-decoration-color: #0087ff\">GlobalAveragePooling2D</span>)             │                             │                 │\n",
              "├──────────────────────────────────────┼─────────────────────────────┼─────────────────┤\n",
              "│ dense (<span style=\"color: #0087ff; text-decoration-color: #0087ff\">Dense</span>)                        │ (<span style=\"color: #00d7ff; text-decoration-color: #00d7ff\">None</span>, <span style=\"color: #00af00; text-decoration-color: #00af00\">128</span>)                 │         <span style=\"color: #00af00; text-decoration-color: #00af00\">262,272</span> │\n",
              "├──────────────────────────────────────┼─────────────────────────────┼─────────────────┤\n",
              "│ dropout (<span style=\"color: #0087ff; text-decoration-color: #0087ff\">Dropout</span>)                    │ (<span style=\"color: #00d7ff; text-decoration-color: #00d7ff\">None</span>, <span style=\"color: #00af00; text-decoration-color: #00af00\">128</span>)                 │               <span style=\"color: #00af00; text-decoration-color: #00af00\">0</span> │\n",
              "├──────────────────────────────────────┼─────────────────────────────┼─────────────────┤\n",
              "│ dense_1 (<span style=\"color: #0087ff; text-decoration-color: #0087ff\">Dense</span>)                      │ (<span style=\"color: #00d7ff; text-decoration-color: #00d7ff\">None</span>, <span style=\"color: #00af00; text-decoration-color: #00af00\">5</span>)                   │             <span style=\"color: #00af00; text-decoration-color: #00af00\">645</span> │\n",
              "└──────────────────────────────────────┴─────────────────────────────┴─────────────────┘\n",
              "</pre>\n"
            ]
          },
          "metadata": {}
        },
        {
          "output_type": "display_data",
          "data": {
            "text/plain": [
              "\u001b[1m Total params: \u001b[0m\u001b[38;5;34m23,850,629\u001b[0m (90.98 MB)\n"
            ],
            "text/html": [
              "<pre style=\"white-space:pre;overflow-x:auto;line-height:normal;font-family:Menlo,'DejaVu Sans Mono',consolas,'Courier New',monospace\"><span style=\"font-weight: bold\"> Total params: </span><span style=\"color: #00af00; text-decoration-color: #00af00\">23,850,629</span> (90.98 MB)\n",
              "</pre>\n"
            ]
          },
          "metadata": {}
        },
        {
          "output_type": "display_data",
          "data": {
            "text/plain": [
              "\u001b[1m Trainable params: \u001b[0m\u001b[38;5;34m23,797,509\u001b[0m (90.78 MB)\n"
            ],
            "text/html": [
              "<pre style=\"white-space:pre;overflow-x:auto;line-height:normal;font-family:Menlo,'DejaVu Sans Mono',consolas,'Courier New',monospace\"><span style=\"font-weight: bold\"> Trainable params: </span><span style=\"color: #00af00; text-decoration-color: #00af00\">23,797,509</span> (90.78 MB)\n",
              "</pre>\n"
            ]
          },
          "metadata": {}
        },
        {
          "output_type": "display_data",
          "data": {
            "text/plain": [
              "\u001b[1m Non-trainable params: \u001b[0m\u001b[38;5;34m53,120\u001b[0m (207.50 KB)\n"
            ],
            "text/html": [
              "<pre style=\"white-space:pre;overflow-x:auto;line-height:normal;font-family:Menlo,'DejaVu Sans Mono',consolas,'Courier New',monospace\"><span style=\"font-weight: bold\"> Non-trainable params: </span><span style=\"color: #00af00; text-decoration-color: #00af00\">53,120</span> (207.50 KB)\n",
              "</pre>\n"
            ]
          },
          "metadata": {}
        }
      ],
      "execution_count": null
    },
    {
      "cell_type": "code",
      "source": [
        "optimizer = Adam(learning_rate=1e-4)\n",
        "model.compile(optimizer=optimizer, loss='categorical_crossentropy', metrics=['accuracy'])\n",
        "\n",
        "class EarlyStoppingCallback(tf.keras.callbacks.Callback):\n",
        "    def on_epoch_end(self, epoch, logs=None):\n",
        "        if logs['accuracy']>0.90:\n",
        "            self.model.stop_training = True\n",
        "            print(\"\\nReached 90% accuracy so cancelling training!\")\n",
        "\n",
        "early_stopping_callback = EarlyStoppingCallback()"
      ],
      "metadata": {
        "trusted": true,
        "execution": {
          "iopub.status.busy": "2024-12-04T08:41:54.508209Z",
          "iopub.execute_input": "2024-12-04T08:41:54.509071Z",
          "iopub.status.idle": "2024-12-04T08:41:54.518375Z",
          "shell.execute_reply.started": "2024-12-04T08:41:54.509036Z",
          "shell.execute_reply": "2024-12-04T08:41:54.517679Z"
        },
        "id": "IkAEKhnWbDnx"
      },
      "outputs": [],
      "execution_count": null
    },
    {
      "cell_type": "markdown",
      "source": [
        "# Train Model"
      ],
      "metadata": {
        "id": "_Ile-_fVbDnx"
      }
    },
    {
      "cell_type": "code",
      "source": [
        "from PIL import ImageFile\n",
        "\n",
        "ImageFile.LOAD_TRUNCATED_IMAGES = True\n",
        "\n",
        "history = model.fit(\n",
        "    train_generator,\n",
        "    validation_data=val_generator,\n",
        "    epochs=EPOCHS\n",
        "    # callbacks=[early_stopping_callback]\n",
        ")\n"
      ],
      "metadata": {
        "trusted": true,
        "execution": {
          "iopub.status.busy": "2024-12-04T08:43:38.683316Z",
          "iopub.execute_input": "2024-12-04T08:43:38.683663Z"
        },
        "colab": {
          "base_uri": "https://localhost:8080/"
        },
        "id": "xLCwFbhybDnx",
        "outputId": "a96b18be-5e0d-47d8-bfc0-26ee91f8d05c"
      },
      "outputs": [
        {
          "output_type": "stream",
          "name": "stdout",
          "text": [
            "Epoch 1/50\n"
          ]
        },
        {
          "output_type": "stream",
          "name": "stderr",
          "text": [
            "/usr/local/lib/python3.10/dist-packages/keras/src/trainers/data_adapters/py_dataset_adapter.py:122: UserWarning: Your `PyDataset` class should call `super().__init__(**kwargs)` in its constructor. `**kwargs` can include `workers`, `use_multiprocessing`, `max_queue_size`. Do not pass these arguments to `fit()`, as they will be ignored.\n",
            "  self._warn_if_super_not_called()\n"
          ]
        },
        {
          "output_type": "stream",
          "name": "stdout",
          "text": [
            "\u001b[1m126/126\u001b[0m \u001b[32m━━━━━━━━━━━━━━━━━━━━\u001b[0m\u001b[37m\u001b[0m \u001b[1m1611s\u001b[0m 12s/step - accuracy: 0.4459 - loss: 1.4197 - val_accuracy: 0.1980 - val_loss: 2.8998\n",
            "Epoch 2/50\n",
            "\u001b[1m126/126\u001b[0m \u001b[32m━━━━━━━━━━━━━━━━━━━━\u001b[0m\u001b[37m\u001b[0m \u001b[1m38s\u001b[0m 296ms/step - accuracy: 0.8550 - loss: 0.4315 - val_accuracy: 0.1980 - val_loss: 1.9749\n",
            "Epoch 3/50\n",
            "\u001b[1m126/126\u001b[0m \u001b[32m━━━━━━━━━━━━━━━━━━━━\u001b[0m\u001b[37m\u001b[0m \u001b[1m41s\u001b[0m 301ms/step - accuracy: 0.9238 - loss: 0.2103 - val_accuracy: 0.2040 - val_loss: 2.2542\n",
            "Epoch 4/50\n",
            "\u001b[1m126/126\u001b[0m \u001b[32m━━━━━━━━━━━━━━━━━━━━\u001b[0m\u001b[37m\u001b[0m \u001b[1m40s\u001b[0m 305ms/step - accuracy: 0.9607 - loss: 0.1206 - val_accuracy: 0.2317 - val_loss: 2.1744\n",
            "Epoch 5/50\n",
            "\u001b[1m126/126\u001b[0m \u001b[32m━━━━━━━━━━━━━━━━━━━━\u001b[0m\u001b[37m\u001b[0m \u001b[1m39s\u001b[0m 301ms/step - accuracy: 0.9609 - loss: 0.1168 - val_accuracy: 0.2277 - val_loss: 2.1495\n",
            "Epoch 6/50\n",
            "\u001b[1m126/126\u001b[0m \u001b[32m━━━━━━━━━━━━━━━━━━━━\u001b[0m\u001b[37m\u001b[0m \u001b[1m42s\u001b[0m 305ms/step - accuracy: 0.9672 - loss: 0.0950 - val_accuracy: 0.2396 - val_loss: 3.5278\n",
            "Epoch 7/50\n",
            "\u001b[1m126/126\u001b[0m \u001b[32m━━━━━━━━━━━━━━━━━━━━\u001b[0m\u001b[37m\u001b[0m \u001b[1m44s\u001b[0m 326ms/step - accuracy: 0.9623 - loss: 0.1281 - val_accuracy: 0.3564 - val_loss: 3.9478\n",
            "Epoch 8/50\n",
            "\u001b[1m126/126\u001b[0m \u001b[32m━━━━━━━━━━━━━━━━━━━━\u001b[0m\u001b[37m\u001b[0m \u001b[1m82s\u001b[0m 328ms/step - accuracy: 0.9856 - loss: 0.0532 - val_accuracy: 0.5188 - val_loss: 2.8382\n",
            "Epoch 9/50\n",
            "\u001b[1m126/126\u001b[0m \u001b[32m━━━━━━━━━━━━━━━━━━━━\u001b[0m\u001b[37m\u001b[0m \u001b[1m79s\u001b[0m 305ms/step - accuracy: 0.9794 - loss: 0.0766 - val_accuracy: 0.6931 - val_loss: 1.5276\n",
            "Epoch 10/50\n",
            "\u001b[1m126/126\u001b[0m \u001b[32m━━━━━━━━━━━━━━━━━━━━\u001b[0m\u001b[37m\u001b[0m \u001b[1m42s\u001b[0m 326ms/step - accuracy: 0.9842 - loss: 0.0500 - val_accuracy: 0.7069 - val_loss: 1.3125\n",
            "Epoch 11/50\n",
            "\u001b[1m126/126\u001b[0m \u001b[32m━━━━━━━━━━━━━━━━━━━━\u001b[0m\u001b[37m\u001b[0m \u001b[1m79s\u001b[0m 305ms/step - accuracy: 0.9790 - loss: 0.0623 - val_accuracy: 0.6139 - val_loss: 2.0835\n",
            "Epoch 12/50\n",
            "\u001b[1m126/126\u001b[0m \u001b[32m━━━━━━━━━━━━━━━━━━━━\u001b[0m\u001b[37m\u001b[0m \u001b[1m39s\u001b[0m 304ms/step - accuracy: 0.9826 - loss: 0.0518 - val_accuracy: 0.5545 - val_loss: 1.7054\n",
            "Epoch 13/50\n",
            "\u001b[1m126/126\u001b[0m \u001b[32m━━━━━━━━━━━━━━━━━━━━\u001b[0m\u001b[37m\u001b[0m \u001b[1m39s\u001b[0m 300ms/step - accuracy: 0.9852 - loss: 0.0496 - val_accuracy: 0.6238 - val_loss: 1.5778\n",
            "Epoch 14/50\n",
            "\u001b[1m126/126\u001b[0m \u001b[32m━━━━━━━━━━━━━━━━━━━━\u001b[0m\u001b[37m\u001b[0m \u001b[1m39s\u001b[0m 303ms/step - accuracy: 0.9805 - loss: 0.0622 - val_accuracy: 0.6693 - val_loss: 1.5068\n",
            "Epoch 15/50\n",
            "\u001b[1m126/126\u001b[0m \u001b[32m━━━━━━━━━━━━━━━━━━━━\u001b[0m\u001b[37m\u001b[0m \u001b[1m41s\u001b[0m 302ms/step - accuracy: 0.9884 - loss: 0.0414 - val_accuracy: 0.6891 - val_loss: 1.6454\n",
            "Epoch 16/50\n",
            "\u001b[1m126/126\u001b[0m \u001b[32m━━━━━━━━━━━━━━━━━━━━\u001b[0m\u001b[37m\u001b[0m \u001b[1m44s\u001b[0m 324ms/step - accuracy: 0.9939 - loss: 0.0190 - val_accuracy: 0.6733 - val_loss: 1.3154\n",
            "Epoch 17/50\n",
            "\u001b[1m126/126\u001b[0m \u001b[32m━━━━━━━━━━━━━━━━━━━━\u001b[0m\u001b[37m\u001b[0m \u001b[1m40s\u001b[0m 305ms/step - accuracy: 0.9780 - loss: 0.0750 - val_accuracy: 0.6772 - val_loss: 1.6196\n",
            "Epoch 18/50\n",
            "\u001b[1m126/126\u001b[0m \u001b[32m━━━━━━━━━━━━━━━━━━━━\u001b[0m\u001b[37m\u001b[0m \u001b[1m39s\u001b[0m 301ms/step - accuracy: 0.9870 - loss: 0.0496 - val_accuracy: 0.7109 - val_loss: 1.7336\n",
            "Epoch 19/50\n",
            "\u001b[1m126/126\u001b[0m \u001b[32m━━━━━━━━━━━━━━━━━━━━\u001b[0m\u001b[37m\u001b[0m \u001b[1m41s\u001b[0m 300ms/step - accuracy: 0.9903 - loss: 0.0265 - val_accuracy: 0.5366 - val_loss: 2.4423\n",
            "Epoch 20/50\n",
            "\u001b[1m126/126\u001b[0m \u001b[32m━━━━━━━━━━━━━━━━━━━━\u001b[0m\u001b[37m\u001b[0m \u001b[1m41s\u001b[0m 301ms/step - accuracy: 0.9876 - loss: 0.0378 - val_accuracy: 0.4594 - val_loss: 5.1525\n",
            "Epoch 21/50\n",
            "\u001b[1m126/126\u001b[0m \u001b[32m━━━━━━━━━━━━━━━━━━━━\u001b[0m\u001b[37m\u001b[0m \u001b[1m39s\u001b[0m 301ms/step - accuracy: 0.9866 - loss: 0.0495 - val_accuracy: 0.5545 - val_loss: 2.5691\n",
            "Epoch 22/50\n",
            "\u001b[1m126/126\u001b[0m \u001b[32m━━━━━━━━━━━━━━━━━━━━\u001b[0m\u001b[37m\u001b[0m \u001b[1m42s\u001b[0m 326ms/step - accuracy: 0.9875 - loss: 0.0420 - val_accuracy: 0.6713 - val_loss: 1.3645\n",
            "Epoch 23/50\n",
            "\u001b[1m126/126\u001b[0m \u001b[32m━━━━━━━━━━━━━━━━━━━━\u001b[0m\u001b[37m\u001b[0m \u001b[1m79s\u001b[0m 305ms/step - accuracy: 0.9864 - loss: 0.0457 - val_accuracy: 0.5386 - val_loss: 3.1359\n",
            "Epoch 24/50\n",
            "\u001b[1m126/126\u001b[0m \u001b[32m━━━━━━━━━━━━━━━━━━━━\u001b[0m\u001b[37m\u001b[0m \u001b[1m43s\u001b[0m 325ms/step - accuracy: 0.9855 - loss: 0.0633 - val_accuracy: 0.6950 - val_loss: 1.2331\n",
            "Epoch 25/50\n",
            "\u001b[1m126/126\u001b[0m \u001b[32m━━━━━━━━━━━━━━━━━━━━\u001b[0m\u001b[37m\u001b[0m \u001b[1m79s\u001b[0m 302ms/step - accuracy: 0.9936 - loss: 0.0187 - val_accuracy: 0.7287 - val_loss: 1.1081\n",
            "Epoch 26/50\n",
            "\u001b[1m126/126\u001b[0m \u001b[32m━━━━━━━━━━━━━━━━━━━━\u001b[0m\u001b[37m\u001b[0m \u001b[1m39s\u001b[0m 303ms/step - accuracy: 0.9860 - loss: 0.0489 - val_accuracy: 0.6020 - val_loss: 2.5690\n",
            "Epoch 27/50\n",
            "\u001b[1m126/126\u001b[0m \u001b[32m━━━━━━━━━━━━━━━━━━━━\u001b[0m\u001b[37m\u001b[0m \u001b[1m39s\u001b[0m 303ms/step - accuracy: 0.9890 - loss: 0.0431 - val_accuracy: 0.6851 - val_loss: 1.4480\n",
            "Epoch 28/50\n",
            "\u001b[1m126/126\u001b[0m \u001b[32m━━━━━━━━━━━━━━━━━━━━\u001b[0m\u001b[37m\u001b[0m \u001b[1m39s\u001b[0m 302ms/step - accuracy: 0.9920 - loss: 0.0258 - val_accuracy: 0.7030 - val_loss: 1.2618\n",
            "Epoch 29/50\n",
            "\u001b[1m126/126\u001b[0m \u001b[32m━━━━━━━━━━━━━━━━━━━━\u001b[0m\u001b[37m\u001b[0m \u001b[1m41s\u001b[0m 301ms/step - accuracy: 0.9888 - loss: 0.0382 - val_accuracy: 0.7406 - val_loss: 1.2665\n",
            "Epoch 30/50\n",
            "\u001b[1m126/126\u001b[0m \u001b[32m━━━━━━━━━━━━━━━━━━━━\u001b[0m\u001b[37m\u001b[0m \u001b[1m39s\u001b[0m 305ms/step - accuracy: 0.9947 - loss: 0.0163 - val_accuracy: 0.7069 - val_loss: 1.7944\n",
            "Epoch 31/50\n",
            "\u001b[1m126/126\u001b[0m \u001b[32m━━━━━━━━━━━━━━━━━━━━\u001b[0m\u001b[37m\u001b[0m \u001b[1m41s\u001b[0m 304ms/step - accuracy: 0.9937 - loss: 0.0216 - val_accuracy: 0.6396 - val_loss: 1.8381\n",
            "Epoch 32/50\n",
            "\u001b[1m126/126\u001b[0m \u001b[32m━━━━━━━━━━━━━━━━━━━━\u001b[0m\u001b[37m\u001b[0m \u001b[1m40s\u001b[0m 305ms/step - accuracy: 0.9941 - loss: 0.0194 - val_accuracy: 0.6198 - val_loss: 2.4145\n",
            "Epoch 33/50\n",
            "\u001b[1m126/126\u001b[0m \u001b[32m━━━━━━━━━━━━━━━━━━━━\u001b[0m\u001b[37m\u001b[0m \u001b[1m39s\u001b[0m 302ms/step - accuracy: 0.9945 - loss: 0.0180 - val_accuracy: 0.3960 - val_loss: 4.1418\n",
            "Epoch 34/50\n",
            "\u001b[1m126/126\u001b[0m \u001b[32m━━━━━━━━━━━━━━━━━━━━\u001b[0m\u001b[37m\u001b[0m \u001b[1m41s\u001b[0m 305ms/step - accuracy: 0.9676 - loss: 0.1027 - val_accuracy: 0.5822 - val_loss: 2.2856\n",
            "Epoch 35/50\n",
            "\u001b[1m126/126\u001b[0m \u001b[32m━━━━━━━━━━━━━━━━━━━━\u001b[0m\u001b[37m\u001b[0m \u001b[1m39s\u001b[0m 305ms/step - accuracy: 0.9955 - loss: 0.0129 - val_accuracy: 0.4238 - val_loss: 5.3904\n",
            "Epoch 36/50\n",
            "\u001b[1m126/126\u001b[0m \u001b[32m━━━━━━━━━━━━━━━━━━━━\u001b[0m\u001b[37m\u001b[0m \u001b[1m39s\u001b[0m 301ms/step - accuracy: 0.9922 - loss: 0.0263 - val_accuracy: 0.5545 - val_loss: 2.6136\n",
            "Epoch 37/50\n",
            "\u001b[1m126/126\u001b[0m \u001b[32m━━━━━━━━━━━━━━━━━━━━\u001b[0m\u001b[37m\u001b[0m \u001b[1m39s\u001b[0m 306ms/step - accuracy: 0.9887 - loss: 0.0415 - val_accuracy: 0.4891 - val_loss: 2.6889\n",
            "Epoch 38/50\n",
            "\u001b[1m126/126\u001b[0m \u001b[32m━━━━━━━━━━━━━━━━━━━━\u001b[0m\u001b[37m\u001b[0m \u001b[1m39s\u001b[0m 305ms/step - accuracy: 0.9937 - loss: 0.0248 - val_accuracy: 0.6277 - val_loss: 2.1759\n",
            "Epoch 39/50\n",
            "\u001b[1m126/126\u001b[0m \u001b[32m━━━━━━━━━━━━━━━━━━━━\u001b[0m\u001b[37m\u001b[0m \u001b[1m41s\u001b[0m 304ms/step - accuracy: 0.9969 - loss: 0.0111 - val_accuracy: 0.7584 - val_loss: 1.1609\n",
            "Epoch 40/50\n",
            "\u001b[1m126/126\u001b[0m \u001b[32m━━━━━━━━━━━━━━━━━━━━\u001b[0m\u001b[37m\u001b[0m \u001b[1m41s\u001b[0m 305ms/step - accuracy: 0.9932 - loss: 0.0194 - val_accuracy: 0.6535 - val_loss: 1.8644\n",
            "Epoch 41/50\n",
            "\u001b[1m126/126\u001b[0m \u001b[32m━━━━━━━━━━━━━━━━━━━━\u001b[0m\u001b[37m\u001b[0m \u001b[1m39s\u001b[0m 302ms/step - accuracy: 0.9939 - loss: 0.0164 - val_accuracy: 0.6891 - val_loss: 1.7472\n",
            "Epoch 42/50\n",
            "\u001b[1m126/126\u001b[0m \u001b[32m━━━━━━━━━━━━━━━━━━━━\u001b[0m\u001b[37m\u001b[0m \u001b[1m41s\u001b[0m 302ms/step - accuracy: 0.9843 - loss: 0.0480 - val_accuracy: 0.6970 - val_loss: 1.4325\n",
            "Epoch 43/50\n",
            "\u001b[1m126/126\u001b[0m \u001b[32m━━━━━━━━━━━━━━━━━━━━\u001b[0m\u001b[37m\u001b[0m \u001b[1m41s\u001b[0m 306ms/step - accuracy: 0.9907 - loss: 0.0324 - val_accuracy: 0.6455 - val_loss: 1.8519\n",
            "Epoch 44/50\n",
            "\u001b[1m126/126\u001b[0m \u001b[32m━━━━━━━━━━━━━━━━━━━━\u001b[0m\u001b[37m\u001b[0m \u001b[1m41s\u001b[0m 305ms/step - accuracy: 0.9845 - loss: 0.0644 - val_accuracy: 0.6614 - val_loss: 1.5249\n",
            "Epoch 45/50\n",
            "\u001b[1m126/126\u001b[0m \u001b[32m━━━━━━━━━━━━━━━━━━━━\u001b[0m\u001b[37m\u001b[0m \u001b[1m39s\u001b[0m 305ms/step - accuracy: 0.9947 - loss: 0.0210 - val_accuracy: 0.7129 - val_loss: 1.6066\n",
            "Epoch 46/50\n",
            "\u001b[1m126/126\u001b[0m \u001b[32m━━━━━━━━━━━━━━━━━━━━\u001b[0m\u001b[37m\u001b[0m \u001b[1m41s\u001b[0m 306ms/step - accuracy: 0.9994 - loss: 0.0043 - val_accuracy: 0.7604 - val_loss: 1.3212\n",
            "Epoch 47/50\n",
            "\u001b[1m126/126\u001b[0m \u001b[32m━━━━━━━━━━━━━━━━━━━━\u001b[0m\u001b[37m\u001b[0m \u001b[1m40s\u001b[0m 301ms/step - accuracy: 0.9969 - loss: 0.0145 - val_accuracy: 0.6317 - val_loss: 2.1235\n",
            "Epoch 48/50\n",
            "\u001b[1m126/126\u001b[0m \u001b[32m━━━━━━━━━━━━━━━━━━━━\u001b[0m\u001b[37m\u001b[0m \u001b[1m41s\u001b[0m 301ms/step - accuracy: 0.9944 - loss: 0.0189 - val_accuracy: 0.6891 - val_loss: 1.5235\n",
            "Epoch 49/50\n",
            "\u001b[1m126/126\u001b[0m \u001b[32m━━━━━━━━━━━━━━━━━━━━\u001b[0m\u001b[37m\u001b[0m \u001b[1m41s\u001b[0m 305ms/step - accuracy: 0.9935 - loss: 0.0318 - val_accuracy: 0.7287 - val_loss: 1.5230\n",
            "Epoch 50/50\n",
            "\u001b[1m126/126\u001b[0m \u001b[32m━━━━━━━━━━━━━━━━━━━━\u001b[0m\u001b[37m\u001b[0m \u001b[1m39s\u001b[0m 301ms/step - accuracy: 0.9985 - loss: 0.0064 - val_accuracy: 0.7446 - val_loss: 1.2277\n"
          ]
        }
      ],
      "execution_count": null
    },
    {
      "cell_type": "code",
      "source": [
        "# Visualisasi akurasi\n",
        "plt.plot(history.history['accuracy'], label='Training Accuracy')\n",
        "plt.plot(history.history['val_accuracy'], label='Validation Accuracy')\n",
        "plt.title('Training and Validation Accuracy')\n",
        "plt.xlabel('Epoch')\n",
        "plt.ylabel('Accuracy')\n",
        "plt.legend(loc='best')\n",
        "plt.show()\n",
        "\n",
        "# Visualisasi loss\n",
        "plt.plot(history.history['loss'], label='Training Loss')\n",
        "plt.plot(history.history['val_loss'], label='Validation Loss')\n",
        "plt.title('Training and Validation Loss')\n",
        "plt.xlabel('Epoch')\n",
        "plt.ylabel('Loss')\n",
        "plt.legend(loc='best')\n",
        "plt.show()"
      ],
      "metadata": {
        "trusted": true,
        "execution": {
          "iopub.status.busy": "2024-12-04T08:31:26.946883Z",
          "iopub.execute_input": "2024-12-04T08:31:26.947201Z",
          "iopub.status.idle": "2024-12-04T08:31:27.494024Z",
          "shell.execute_reply.started": "2024-12-04T08:31:26.947174Z",
          "shell.execute_reply": "2024-12-04T08:31:27.493248Z"
        },
        "colab": {
          "base_uri": "https://localhost:8080/",
          "height": 927
        },
        "id": "Uh_P7XV9bDnx",
        "outputId": "7fc3fa30-3585-4d75-ec03-c16764d2d54d"
      },
      "outputs": [
        {
          "output_type": "display_data",
          "data": {
            "text/plain": [
              "<Figure size 640x480 with 1 Axes>"
            ],
            "image/png": "[encoded data removed]"
          },
          "metadata": {}
        },
        {
          "output_type": "display_data",
          "data": {
            "text/plain": [
              "<Figure size 640x480 with 1 Axes>"
            ],
            "image/png": "[encoded data removed]"
          },
          "metadata": {}
        }
      ],
      "execution_count": null
    },
    {
      "cell_type": "code",
      "source": [
        "test_loss, test_acc = model.evaluate(test_generator, steps=len(test_generator))\n",
        "print(f\"\\nTest Accuracy: {test_acc*100:.2f}%\")"
      ],
      "metadata": {
        "trusted": true,
        "execution": {
          "iopub.status.busy": "2024-12-04T08:31:38.982249Z",
          "iopub.execute_input": "2024-12-04T08:31:38.982555Z",
          "iopub.status.idle": "2024-12-04T08:31:42.622412Z",
          "shell.execute_reply.started": "2024-12-04T08:31:38.982526Z",
          "shell.execute_reply": "2024-12-04T08:31:42.621648Z"
        },
        "colab": {
          "base_uri": "https://localhost:8080/"
        },
        "id": "jV7B9qZFbDny",
        "outputId": "b5e8b8af-6f44-406a-c2bc-f4c0a0089df7"
      },
      "outputs": [
        {
          "output_type": "stream",
          "name": "stdout",
          "text": [
            "\u001b[1m16/16\u001b[0m \u001b[32m━━━━━━━━━━━━━━━━━━━━\u001b[0m\u001b[37m\u001b[0m \u001b[1m174s\u001b[0m 12s/step - accuracy: 0.7183 - loss: 1.5669\n",
            "\n",
            "Test Accuracy: 77.03%\n"
          ]
        }
      ],
      "execution_count": null
    },
    {
      "cell_type": "code",
      "source": [
        "y_pred = np.argmax(model.predict(test_generator), axis=1)\n",
        "y_true = test_generator.classes\n",
        "cm = confusion_matrix(y_true, y_pred)\n",
        "class_names = list(test_generator.class_indices.keys())\n",
        "\n",
        "# Visualisasikan confusion matrix menggunakan seaborn\n",
        "plt.figure(figsize=(10, 7))\n",
        "sns.heatmap(cm, annot=True, fmt='d', cmap='Blues', xticklabels=class_names, yticklabels=class_names)\n",
        "plt.title('Confusion Matrix')\n",
        "plt.xlabel('Predicted Label')\n",
        "plt.ylabel('True Label')\n",
        "plt.xticks(rotation=45, ha='right')\n",
        "plt.yticks(rotation=0)\n",
        "plt.tight_layout()\n",
        "plt.show()"
      ],
      "metadata": {
        "trusted": true,
        "execution": {
          "iopub.status.busy": "2024-12-04T08:31:47.028205Z",
          "iopub.execute_input": "2024-12-04T08:31:47.028921Z",
          "iopub.status.idle": "2024-12-04T08:31:54.664706Z",
          "shell.execute_reply.started": "2024-12-04T08:31:47.028886Z",
          "shell.execute_reply": "2024-12-04T08:31:54.664063Z"
        },
        "colab": {
          "base_uri": "https://localhost:8080/",
          "height": 725
        },
        "id": "70vRkx6PbDny",
        "outputId": "86ac7214-b5b6-4791-ee61-16c55fcf3198"
      },
      "outputs": [
        {
          "output_type": "stream",
          "name": "stdout",
          "text": [
            "\u001b[1m16/16\u001b[0m \u001b[32m━━━━━━━━━━━━━━━━━━━━\u001b[0m\u001b[37m\u001b[0m \u001b[1m15s\u001b[0m 342ms/step\n"
          ]
        },
        {
          "output_type": "display_data",
          "data": {
            "text/plain": [
              "<Figure size 1000x700 with 2 Axes>"
            ],
            "image/png": "[encoded data removed]"
          },
          "metadata": {}
        }
      ],
      "execution_count": null
    },
    {
      "cell_type": "code",
      "source": [
        "model.save('model_face_shape_V2.h5')"
      ],
      "metadata": {
        "trusted": true,
        "execution": {
          "iopub.status.busy": "2024-12-04T08:32:28.375859Z",
          "iopub.execute_input": "2024-12-04T08:32:28.376174Z",
          "iopub.status.idle": "2024-12-04T08:32:29.163327Z",
          "shell.execute_reply.started": "2024-12-04T08:32:28.376147Z",
          "shell.execute_reply": "2024-12-04T08:32:29.162301Z"
        },
        "colab": {
          "base_uri": "https://localhost:8080/"
        },
        "id": "TAyooKKVbDny",
        "outputId": "772231b5-0d63-4acf-c3b3-e2c0e7a08344"
      },
      "outputs": [
        {
          "output_type": "stream",
          "name": "stderr",
          "text": [
            "WARNING:absl:You are saving your model as an HDF5 file via `model.save()` or `keras.saving.save_model(model)`. This file format is considered legacy. We recommend using instead the native Keras format, e.g. `model.save('my_model.keras')` or `keras.saving.save_model(model, 'my_model.keras')`. \n"
          ]
        }
      ],
      "execution_count": null
    },
    {
      "cell_type": "code",
      "source": [
        "model = tf.keras.models.load_model('model_face_shape_V2.h5')\n",
        "\n",
        "converter = tf.lite.TFLiteConverter.from_keras_model(model)\n",
        "\n",
        "tflite_model = converter.convert()\n",
        "\n",
        "\n",
        "with open('model_face_shape_V2.tflite', 'wb') as f:\n",
        "    f.write(tflite_model)\n"
      ],
      "metadata": {
        "trusted": true,
        "execution": {
          "iopub.status.busy": "2024-12-04T08:33:28.203875Z",
          "iopub.execute_input": "2024-12-04T08:33:28.204284Z"
        },
        "colab": {
          "base_uri": "https://localhost:8080/"
        },
        "id": "0nTQhvPwbDny",
        "outputId": "20618ee6-a00c-47d9-9dde-d537da9aefa5"
      },
      "outputs": [
        {
          "output_type": "stream",
          "name": "stderr",
          "text": [
            "WARNING:absl:Compiled the loaded model, but the compiled metrics have yet to be built. `model.compile_metrics` will be empty until you train or evaluate the model.\n"
          ]
        },
        {
          "output_type": "stream",
          "name": "stdout",
          "text": [
            "Saved artifact at '/tmp/tmptfubo7wq'. The following endpoints are available:\n",
            "\n",
            "* Endpoint 'serve'\n",
            "  args_0 (POSITIONAL_ONLY): TensorSpec(shape=(None, 224, 224, 3), dtype=tf.float32, name='input_layer_1')\n",
            "Output Type:\n",
            "  TensorSpec(shape=(None, 5), dtype=tf.float32, name=None)\n",
            "Captures:\n",
            "  134560945359504: TensorSpec(shape=(), dtype=tf.resource, name=None)\n",
            "  134560945364432: TensorSpec(shape=(), dtype=tf.resource, name=None)\n",
            "  134560945372528: TensorSpec(shape=(), dtype=tf.resource, name=None)\n",
            "  134560945372000: TensorSpec(shape=(), dtype=tf.resource, name=None)\n",
            "  134560945368656: TensorSpec(shape=(), dtype=tf.resource, name=None)\n",
            "  134560945370944: TensorSpec(shape=(), dtype=tf.resource, name=None)\n",
            "  134560945357568: TensorSpec(shape=(), dtype=tf.resource, name=None)\n",
            "  134560945392448: TensorSpec(shape=(), dtype=tf.resource, name=None)\n",
            "  134560945392096: TensorSpec(shape=(), dtype=tf.resource, name=None)\n",
            "  134560945393856: TensorSpec(shape=(), dtype=tf.resource, name=None)\n",
            "  134560945389984: TensorSpec(shape=(), dtype=tf.resource, name=None)\n",
            "  134560945393328: TensorSpec(shape=(), dtype=tf.resource, name=None)\n",
            "  134560945397024: TensorSpec(shape=(), dtype=tf.resource, name=None)\n",
            "  134560945392272: TensorSpec(shape=(), dtype=tf.resource, name=None)\n",
            "  134560945396672: TensorSpec(shape=(), dtype=tf.resource, name=None)\n",
            "  134560945396496: TensorSpec(shape=(), dtype=tf.resource, name=None)\n",
            "  134560945392800: TensorSpec(shape=(), dtype=tf.resource, name=None)\n",
            "  134560945397904: TensorSpec(shape=(), dtype=tf.resource, name=None)\n",
            "  134560945402656: TensorSpec(shape=(), dtype=tf.resource, name=None)\n",
            "  134560945400016: TensorSpec(shape=(), dtype=tf.resource, name=None)\n",
            "  134560945401600: TensorSpec(shape=(), dtype=tf.resource, name=None)\n",
            "  134560945396848: TensorSpec(shape=(), dtype=tf.resource, name=None)\n",
            "  134560945400896: TensorSpec(shape=(), dtype=tf.resource, name=None)\n",
            "  134560945405472: TensorSpec(shape=(), dtype=tf.resource, name=None)\n",
            "  134560945401072: TensorSpec(shape=(), dtype=tf.resource, name=None)\n",
            "  134560945404064: TensorSpec(shape=(), dtype=tf.resource, name=None)\n",
            "  134560945473488: TensorSpec(shape=(), dtype=tf.resource, name=None)\n",
            "  134560945472608: TensorSpec(shape=(), dtype=tf.resource, name=None)\n",
            "  134560945400544: TensorSpec(shape=(), dtype=tf.resource, name=None)\n",
            "  134560945472784: TensorSpec(shape=(), dtype=tf.resource, name=None)\n",
            "  134560945404944: TensorSpec(shape=(), dtype=tf.resource, name=None)\n",
            "  134560945476480: TensorSpec(shape=(), dtype=tf.resource, name=None)\n",
            "  134560945476128: TensorSpec(shape=(), dtype=tf.resource, name=None)\n",
            "  134560945475952: TensorSpec(shape=(), dtype=tf.resource, name=None)\n",
            "  134560945472432: TensorSpec(shape=(), dtype=tf.resource, name=None)\n",
            "  134560945477360: TensorSpec(shape=(), dtype=tf.resource, name=None)\n",
            "  134560945481056: TensorSpec(shape=(), dtype=tf.resource, name=None)\n",
            "  134560945476304: TensorSpec(shape=(), dtype=tf.resource, name=None)\n",
            "  134560945480704: TensorSpec(shape=(), dtype=tf.resource, name=None)\n",
            "  134560945483344: TensorSpec(shape=(), dtype=tf.resource, name=None)\n",
            "  134560945473312: TensorSpec(shape=(), dtype=tf.resource, name=None)\n",
            "  134560945481936: TensorSpec(shape=(), dtype=tf.resource, name=None)\n",
            "  134560945485632: TensorSpec(shape=(), dtype=tf.resource, name=None)\n",
            "  134560945480880: TensorSpec(shape=(), dtype=tf.resource, name=None)\n",
            "  134560945485280: TensorSpec(shape=(), dtype=tf.resource, name=None)\n",
            "  134560945484400: TensorSpec(shape=(), dtype=tf.resource, name=None)\n",
            "  134560945477536: TensorSpec(shape=(), dtype=tf.resource, name=None)\n",
            "  134560945486512: TensorSpec(shape=(), dtype=tf.resource, name=None)\n",
            "  134560945484224: TensorSpec(shape=(), dtype=tf.resource, name=None)\n",
            "  134560945539728: TensorSpec(shape=(), dtype=tf.resource, name=None)\n",
            "  134560945539376: TensorSpec(shape=(), dtype=tf.resource, name=None)\n",
            "  134560945541136: TensorSpec(shape=(), dtype=tf.resource, name=None)\n",
            "  134560945537440: TensorSpec(shape=(), dtype=tf.resource, name=None)\n",
            "  134560945540608: TensorSpec(shape=(), dtype=tf.resource, name=None)\n",
            "  134560945544304: TensorSpec(shape=(), dtype=tf.resource, name=None)\n",
            "  134560945539552: TensorSpec(shape=(), dtype=tf.resource, name=None)\n",
            "  134560945543952: TensorSpec(shape=(), dtype=tf.resource, name=None)\n",
            "  134560945543776: TensorSpec(shape=(), dtype=tf.resource, name=None)\n",
            "  134560945540080: TensorSpec(shape=(), dtype=tf.resource, name=None)\n",
            "  134560945545184: TensorSpec(shape=(), dtype=tf.resource, name=None)\n",
            "  134560945548880: TensorSpec(shape=(), dtype=tf.resource, name=None)\n",
            "  134560945544128: TensorSpec(shape=(), dtype=tf.resource, name=None)\n",
            "  134560945548528: TensorSpec(shape=(), dtype=tf.resource, name=None)\n",
            "  134560945551168: TensorSpec(shape=(), dtype=tf.resource, name=None)\n",
            "  134560945540784: TensorSpec(shape=(), dtype=tf.resource, name=None)\n",
            "  134560945549760: TensorSpec(shape=(), dtype=tf.resource, name=None)\n",
            "  134560945551696: TensorSpec(shape=(), dtype=tf.resource, name=None)\n",
            "  134560945552400: TensorSpec(shape=(), dtype=tf.resource, name=None)\n",
            "  134560945670272: TensorSpec(shape=(), dtype=tf.resource, name=None)\n",
            "  134560945669744: TensorSpec(shape=(), dtype=tf.resource, name=None)\n",
            "  134560945552928: TensorSpec(shape=(), dtype=tf.resource, name=None)\n",
            "  134560945669040: TensorSpec(shape=(), dtype=tf.resource, name=None)\n",
            "  134560945541312: TensorSpec(shape=(), dtype=tf.resource, name=None)\n",
            "  134560945673088: TensorSpec(shape=(), dtype=tf.resource, name=None)\n",
            "  134560945672736: TensorSpec(shape=(), dtype=tf.resource, name=None)\n",
            "  134560945673792: TensorSpec(shape=(), dtype=tf.resource, name=None)\n",
            "  134560945670800: TensorSpec(shape=(), dtype=tf.resource, name=None)\n",
            "  134560945673968: TensorSpec(shape=(), dtype=tf.resource, name=None)\n",
            "  134560945678720: TensorSpec(shape=(), dtype=tf.resource, name=None)\n",
            "  134560945676080: TensorSpec(shape=(), dtype=tf.resource, name=None)\n",
            "  134560945677664: TensorSpec(shape=(), dtype=tf.resource, name=None)\n",
            "  134560945672912: TensorSpec(shape=(), dtype=tf.resource, name=None)\n",
            "  134560945676960: TensorSpec(shape=(), dtype=tf.resource, name=None)\n",
            "  134560945681536: TensorSpec(shape=(), dtype=tf.resource, name=None)\n",
            "  134560945677136: TensorSpec(shape=(), dtype=tf.resource, name=None)\n",
            "  134560945680128: TensorSpec(shape=(), dtype=tf.resource, name=None)\n",
            "  134560945682592: TensorSpec(shape=(), dtype=tf.resource, name=None)\n",
            "  134560945679424: TensorSpec(shape=(), dtype=tf.resource, name=None)\n",
            "  134560945676608: TensorSpec(shape=(), dtype=tf.resource, name=None)\n",
            "  134560945683120: TensorSpec(shape=(), dtype=tf.resource, name=None)\n",
            "  134560945672384: TensorSpec(shape=(), dtype=tf.resource, name=None)\n",
            "  134560945703392: TensorSpec(shape=(), dtype=tf.resource, name=None)\n",
            "  134560945703040: TensorSpec(shape=(), dtype=tf.resource, name=None)\n",
            "  134560945704800: TensorSpec(shape=(), dtype=tf.resource, name=None)\n",
            "  134560945701104: TensorSpec(shape=(), dtype=tf.resource, name=None)\n",
            "  134560945704272: TensorSpec(shape=(), dtype=tf.resource, name=None)\n",
            "  134560945707968: TensorSpec(shape=(), dtype=tf.resource, name=None)\n",
            "  134560945703216: TensorSpec(shape=(), dtype=tf.resource, name=None)\n",
            "  134560945707616: TensorSpec(shape=(), dtype=tf.resource, name=None)\n",
            "  134560945707440: TensorSpec(shape=(), dtype=tf.resource, name=None)\n",
            "  134560945701280: TensorSpec(shape=(), dtype=tf.resource, name=None)\n",
            "  134560945708848: TensorSpec(shape=(), dtype=tf.resource, name=None)\n",
            "  134560945712544: TensorSpec(shape=(), dtype=tf.resource, name=None)\n",
            "  134560945707792: TensorSpec(shape=(), dtype=tf.resource, name=None)\n",
            "  134560945712192: TensorSpec(shape=(), dtype=tf.resource, name=None)\n",
            "  134560945714832: TensorSpec(shape=(), dtype=tf.resource, name=None)\n",
            "  134560945704448: TensorSpec(shape=(), dtype=tf.resource, name=None)\n",
            "  134560945713424: TensorSpec(shape=(), dtype=tf.resource, name=None)\n",
            "  134560945715360: TensorSpec(shape=(), dtype=tf.resource, name=None)\n",
            "  134560945716064: TensorSpec(shape=(), dtype=tf.resource, name=None)\n",
            "  134560943720400: TensorSpec(shape=(), dtype=tf.resource, name=None)\n",
            "  134560943719872: TensorSpec(shape=(), dtype=tf.resource, name=None)\n",
            "  134560945716944: TensorSpec(shape=(), dtype=tf.resource, name=None)\n",
            "  134560943719168: TensorSpec(shape=(), dtype=tf.resource, name=None)\n",
            "  134560945703744: TensorSpec(shape=(), dtype=tf.resource, name=None)\n",
            "  134560943723216: TensorSpec(shape=(), dtype=tf.resource, name=None)\n",
            "  134560943722864: TensorSpec(shape=(), dtype=tf.resource, name=None)\n",
            "  134560943723920: TensorSpec(shape=(), dtype=tf.resource, name=None)\n",
            "  134560943720928: TensorSpec(shape=(), dtype=tf.resource, name=None)\n",
            "  134560943724096: TensorSpec(shape=(), dtype=tf.resource, name=None)\n",
            "  134560943727792: TensorSpec(shape=(), dtype=tf.resource, name=None)\n",
            "  134560943723040: TensorSpec(shape=(), dtype=tf.resource, name=None)\n",
            "  134560943727440: TensorSpec(shape=(), dtype=tf.resource, name=None)\n",
            "  134560943730080: TensorSpec(shape=(), dtype=tf.resource, name=None)\n",
            "  134560943719696: TensorSpec(shape=(), dtype=tf.resource, name=None)\n",
            "  134560943728672: TensorSpec(shape=(), dtype=tf.resource, name=None)\n",
            "  134560943732544: TensorSpec(shape=(), dtype=tf.resource, name=None)\n",
            "  134560943730608: TensorSpec(shape=(), dtype=tf.resource, name=None)\n",
            "  134560943732192: TensorSpec(shape=(), dtype=tf.resource, name=None)\n",
            "  134560943731312: TensorSpec(shape=(), dtype=tf.resource, name=None)\n",
            "  134560943726384: TensorSpec(shape=(), dtype=tf.resource, name=None)\n",
            "  134560943733424: TensorSpec(shape=(), dtype=tf.resource, name=None)\n",
            "  134560943727088: TensorSpec(shape=(), dtype=tf.resource, name=None)\n",
            "  134560943819232: TensorSpec(shape=(), dtype=tf.resource, name=None)\n",
            "  134560943818880: TensorSpec(shape=(), dtype=tf.resource, name=None)\n",
            "  134560943820640: TensorSpec(shape=(), dtype=tf.resource, name=None)\n",
            "  134560943817120: TensorSpec(shape=(), dtype=tf.resource, name=None)\n",
            "  134560943820112: TensorSpec(shape=(), dtype=tf.resource, name=None)\n",
            "  134560943823808: TensorSpec(shape=(), dtype=tf.resource, name=None)\n",
            "  134560943819056: TensorSpec(shape=(), dtype=tf.resource, name=None)\n",
            "  134560943823456: TensorSpec(shape=(), dtype=tf.resource, name=None)\n",
            "  134560943823280: TensorSpec(shape=(), dtype=tf.resource, name=None)\n",
            "  134560943819584: TensorSpec(shape=(), dtype=tf.resource, name=None)\n",
            "  134560943824688: TensorSpec(shape=(), dtype=tf.resource, name=None)\n",
            "  134560943828560: TensorSpec(shape=(), dtype=tf.resource, name=None)\n",
            "  134560943826624: TensorSpec(shape=(), dtype=tf.resource, name=None)\n",
            "  134560943828208: TensorSpec(shape=(), dtype=tf.resource, name=None)\n",
            "  134560943830848: TensorSpec(shape=(), dtype=tf.resource, name=None)\n",
            "  134560943820816: TensorSpec(shape=(), dtype=tf.resource, name=None)\n",
            "  134560943829440: TensorSpec(shape=(), dtype=tf.resource, name=None)\n",
            "  134560943828384: TensorSpec(shape=(), dtype=tf.resource, name=None)\n",
            "  134560943831904: TensorSpec(shape=(), dtype=tf.resource, name=None)\n",
            "  134560943884240: TensorSpec(shape=(), dtype=tf.resource, name=None)\n",
            "  134560943883360: TensorSpec(shape=(), dtype=tf.resource, name=None)\n",
            "  134560943832784: TensorSpec(shape=(), dtype=tf.resource, name=None)\n",
            "  134560943883536: TensorSpec(shape=(), dtype=tf.resource, name=None)\n",
            "  134560943888112: TensorSpec(shape=(), dtype=tf.resource, name=None)\n",
            "  134560943886000: TensorSpec(shape=(), dtype=tf.resource, name=None)\n",
            "  134560943831728: TensorSpec(shape=(), dtype=tf.resource, name=None)\n",
            "  134560943887056: TensorSpec(shape=(), dtype=tf.resource, name=None)\n",
            "  134560943886352: TensorSpec(shape=(), dtype=tf.resource, name=None)\n",
            "  134560943887936: TensorSpec(shape=(), dtype=tf.resource, name=None)\n",
            "  134560943887760: TensorSpec(shape=(), dtype=tf.resource, name=None)\n",
            "  134560943889520: TensorSpec(shape=(), dtype=tf.resource, name=None)\n",
            "  134560943891984: TensorSpec(shape=(), dtype=tf.resource, name=None)\n",
            "  134560943893744: TensorSpec(shape=(), dtype=tf.resource, name=None)\n",
            "  134560943889168: TensorSpec(shape=(), dtype=tf.resource, name=None)\n",
            "  134560943892512: TensorSpec(shape=(), dtype=tf.resource, name=None)\n",
            "  134560943896208: TensorSpec(shape=(), dtype=tf.resource, name=None)\n",
            "  134560943894272: TensorSpec(shape=(), dtype=tf.resource, name=None)\n",
            "  134560943895856: TensorSpec(shape=(), dtype=tf.resource, name=None)\n",
            "  134560943894976: TensorSpec(shape=(), dtype=tf.resource, name=None)\n",
            "  134560943885120: TensorSpec(shape=(), dtype=tf.resource, name=None)\n",
            "  134560943897088: TensorSpec(shape=(), dtype=tf.resource, name=None)\n",
            "  134560943885472: TensorSpec(shape=(), dtype=tf.resource, name=None)\n",
            "  134560943982896: TensorSpec(shape=(), dtype=tf.resource, name=None)\n",
            "  134560943982544: TensorSpec(shape=(), dtype=tf.resource, name=None)\n",
            "  134560943984304: TensorSpec(shape=(), dtype=tf.resource, name=None)\n",
            "  134560943980784: TensorSpec(shape=(), dtype=tf.resource, name=None)\n",
            "  134560943983776: TensorSpec(shape=(), dtype=tf.resource, name=None)\n",
            "  134560943987472: TensorSpec(shape=(), dtype=tf.resource, name=None)\n",
            "  134560943982720: TensorSpec(shape=(), dtype=tf.resource, name=None)\n",
            "  134560943987120: TensorSpec(shape=(), dtype=tf.resource, name=None)\n",
            "  134560943986944: TensorSpec(shape=(), dtype=tf.resource, name=None)\n",
            "  134560943983248: TensorSpec(shape=(), dtype=tf.resource, name=None)\n",
            "  134560943988352: TensorSpec(shape=(), dtype=tf.resource, name=None)\n",
            "  134560943992224: TensorSpec(shape=(), dtype=tf.resource, name=None)\n",
            "  134560943990288: TensorSpec(shape=(), dtype=tf.resource, name=None)\n",
            "  134560943991872: TensorSpec(shape=(), dtype=tf.resource, name=None)\n",
            "  134560943994512: TensorSpec(shape=(), dtype=tf.resource, name=None)\n",
            "  134560943984480: TensorSpec(shape=(), dtype=tf.resource, name=None)\n",
            "  134560943993104: TensorSpec(shape=(), dtype=tf.resource, name=None)\n",
            "  134560943992048: TensorSpec(shape=(), dtype=tf.resource, name=None)\n",
            "  134560943995568: TensorSpec(shape=(), dtype=tf.resource, name=None)\n",
            "  134560944031520: TensorSpec(shape=(), dtype=tf.resource, name=None)\n",
            "  134560944030640: TensorSpec(shape=(), dtype=tf.resource, name=None)\n",
            "  134560943996448: TensorSpec(shape=(), dtype=tf.resource, name=None)\n",
            "  134560944030816: TensorSpec(shape=(), dtype=tf.resource, name=None)\n",
            "  134560943995392: TensorSpec(shape=(), dtype=tf.resource, name=None)\n",
            "  134560944034336: TensorSpec(shape=(), dtype=tf.resource, name=None)\n",
            "  134560944033984: TensorSpec(shape=(), dtype=tf.resource, name=None)\n",
            "  134560944035040: TensorSpec(shape=(), dtype=tf.resource, name=None)\n",
            "  134560944032048: TensorSpec(shape=(), dtype=tf.resource, name=None)\n",
            "  134560944035216: TensorSpec(shape=(), dtype=tf.resource, name=None)\n",
            "  134560944039088: TensorSpec(shape=(), dtype=tf.resource, name=None)\n",
            "  134560944037152: TensorSpec(shape=(), dtype=tf.resource, name=None)\n",
            "  134560944038736: TensorSpec(shape=(), dtype=tf.resource, name=None)\n",
            "  134560944041376: TensorSpec(shape=(), dtype=tf.resource, name=None)\n",
            "  134560944030112: TensorSpec(shape=(), dtype=tf.resource, name=None)\n",
            "  134560944039968: TensorSpec(shape=(), dtype=tf.resource, name=None)\n",
            "  134560944043664: TensorSpec(shape=(), dtype=tf.resource, name=None)\n",
            "  134560944038912: TensorSpec(shape=(), dtype=tf.resource, name=None)\n",
            "  134560944043312: TensorSpec(shape=(), dtype=tf.resource, name=None)\n",
            "  134560944042432: TensorSpec(shape=(), dtype=tf.resource, name=None)\n",
            "  134560944035392: TensorSpec(shape=(), dtype=tf.resource, name=None)\n",
            "  134560944044544: TensorSpec(shape=(), dtype=tf.resource, name=None)\n",
            "  134560944036624: TensorSpec(shape=(), dtype=tf.resource, name=None)\n",
            "  134560944163120: TensorSpec(shape=(), dtype=tf.resource, name=None)\n",
            "  134560944162768: TensorSpec(shape=(), dtype=tf.resource, name=None)\n",
            "  134560944164528: TensorSpec(shape=(), dtype=tf.resource, name=None)\n",
            "  134560944161008: TensorSpec(shape=(), dtype=tf.resource, name=None)\n",
            "  134560944164000: TensorSpec(shape=(), dtype=tf.resource, name=None)\n",
            "  134560944167872: TensorSpec(shape=(), dtype=tf.resource, name=None)\n",
            "  134560944165936: TensorSpec(shape=(), dtype=tf.resource, name=None)\n",
            "  134560944167520: TensorSpec(shape=(), dtype=tf.resource, name=None)\n",
            "  134560944167344: TensorSpec(shape=(), dtype=tf.resource, name=None)\n",
            "  134560944161184: TensorSpec(shape=(), dtype=tf.resource, name=None)\n",
            "  134560944168752: TensorSpec(shape=(), dtype=tf.resource, name=None)\n",
            "  134560944172448: TensorSpec(shape=(), dtype=tf.resource, name=None)\n",
            "  134560944167696: TensorSpec(shape=(), dtype=tf.resource, name=None)\n",
            "  134560944172096: TensorSpec(shape=(), dtype=tf.resource, name=None)\n",
            "  134560944174736: TensorSpec(shape=(), dtype=tf.resource, name=None)\n",
            "  134560944164176: TensorSpec(shape=(), dtype=tf.resource, name=None)\n",
            "  134560944173328: TensorSpec(shape=(), dtype=tf.resource, name=None)\n",
            "  134560944172272: TensorSpec(shape=(), dtype=tf.resource, name=None)\n",
            "  134560944175792: TensorSpec(shape=(), dtype=tf.resource, name=None)\n",
            "  134560944228128: TensorSpec(shape=(), dtype=tf.resource, name=None)\n",
            "  134560944226544: TensorSpec(shape=(), dtype=tf.resource, name=None)\n",
            "  134560944176672: TensorSpec(shape=(), dtype=tf.resource, name=None)\n",
            "  134560944227600: TensorSpec(shape=(), dtype=tf.resource, name=None)\n",
            "  134560944171216: TensorSpec(shape=(), dtype=tf.resource, name=None)\n",
            "  134560944231120: TensorSpec(shape=(), dtype=tf.resource, name=None)\n",
            "  134560944230768: TensorSpec(shape=(), dtype=tf.resource, name=None)\n",
            "  134560944230592: TensorSpec(shape=(), dtype=tf.resource, name=None)\n",
            "  134560944226720: TensorSpec(shape=(), dtype=tf.resource, name=None)\n",
            "  134560944232000: TensorSpec(shape=(), dtype=tf.resource, name=None)\n",
            "  134560944235696: TensorSpec(shape=(), dtype=tf.resource, name=None)\n",
            "  134560944230944: TensorSpec(shape=(), dtype=tf.resource, name=None)\n",
            "  134560944235344: TensorSpec(shape=(), dtype=tf.resource, name=None)\n",
            "  134560944237984: TensorSpec(shape=(), dtype=tf.resource, name=None)\n",
            "  134560944227424: TensorSpec(shape=(), dtype=tf.resource, name=None)\n",
            "  134560944236576: TensorSpec(shape=(), dtype=tf.resource, name=None)\n",
            "  134560944240272: TensorSpec(shape=(), dtype=tf.resource, name=None)\n",
            "  134560944235520: TensorSpec(shape=(), dtype=tf.resource, name=None)\n",
            "  134560944239920: TensorSpec(shape=(), dtype=tf.resource, name=None)\n",
            "  134560944239040: TensorSpec(shape=(), dtype=tf.resource, name=None)\n",
            "  134560944232176: TensorSpec(shape=(), dtype=tf.resource, name=None)\n",
            "  134560944241152: TensorSpec(shape=(), dtype=tf.resource, name=None)\n",
            "  134560944238864: TensorSpec(shape=(), dtype=tf.resource, name=None)\n",
            "  134560944294368: TensorSpec(shape=(), dtype=tf.resource, name=None)\n",
            "  134560944294016: TensorSpec(shape=(), dtype=tf.resource, name=None)\n",
            "  134560944295776: TensorSpec(shape=(), dtype=tf.resource, name=None)\n",
            "  134560944292080: TensorSpec(shape=(), dtype=tf.resource, name=None)\n",
            "  134560944295248: TensorSpec(shape=(), dtype=tf.resource, name=None)\n",
            "  134560944298944: TensorSpec(shape=(), dtype=tf.resource, name=None)\n",
            "  134560944294192: TensorSpec(shape=(), dtype=tf.resource, name=None)\n",
            "  134560944298592: TensorSpec(shape=(), dtype=tf.resource, name=None)\n",
            "  134560944298416: TensorSpec(shape=(), dtype=tf.resource, name=None)\n",
            "  134560944292256: TensorSpec(shape=(), dtype=tf.resource, name=None)\n",
            "  134560944299824: TensorSpec(shape=(), dtype=tf.resource, name=None)\n",
            "  134560944304576: TensorSpec(shape=(), dtype=tf.resource, name=None)\n",
            "  134560944301936: TensorSpec(shape=(), dtype=tf.resource, name=None)\n",
            "  134560944303520: TensorSpec(shape=(), dtype=tf.resource, name=None)\n",
            "  134560944298768: TensorSpec(shape=(), dtype=tf.resource, name=None)\n",
            "  134560944302816: TensorSpec(shape=(), dtype=tf.resource, name=None)\n",
            "  134560944307392: TensorSpec(shape=(), dtype=tf.resource, name=None)\n",
            "  134560944302992: TensorSpec(shape=(), dtype=tf.resource, name=None)\n",
            "  134560944305984: TensorSpec(shape=(), dtype=tf.resource, name=None)\n",
            "  134560944391792: TensorSpec(shape=(), dtype=tf.resource, name=None)\n",
            "  134560944390912: TensorSpec(shape=(), dtype=tf.resource, name=None)\n",
            "  134560944302464: TensorSpec(shape=(), dtype=tf.resource, name=None)\n",
            "  134560944391088: TensorSpec(shape=(), dtype=tf.resource, name=None)\n",
            "  134560944306864: TensorSpec(shape=(), dtype=tf.resource, name=None)\n",
            "  134560944394784: TensorSpec(shape=(), dtype=tf.resource, name=None)\n",
            "  134560944394432: TensorSpec(shape=(), dtype=tf.resource, name=None)\n",
            "  134560944394256: TensorSpec(shape=(), dtype=tf.resource, name=None)\n",
            "  134560944390736: TensorSpec(shape=(), dtype=tf.resource, name=None)\n",
            "  134560944395664: TensorSpec(shape=(), dtype=tf.resource, name=None)\n",
            "  134560944399360: TensorSpec(shape=(), dtype=tf.resource, name=None)\n",
            "  134560944394608: TensorSpec(shape=(), dtype=tf.resource, name=None)\n",
            "  134560944399008: TensorSpec(shape=(), dtype=tf.resource, name=None)\n",
            "  134560944398832: TensorSpec(shape=(), dtype=tf.resource, name=None)\n",
            "  134560944391616: TensorSpec(shape=(), dtype=tf.resource, name=None)\n",
            "  134560944400240: TensorSpec(shape=(), dtype=tf.resource, name=None)\n",
            "  134560944403936: TensorSpec(shape=(), dtype=tf.resource, name=None)\n",
            "  134560944399184: TensorSpec(shape=(), dtype=tf.resource, name=None)\n",
            "  134560944403584: TensorSpec(shape=(), dtype=tf.resource, name=None)\n",
            "  134560944406224: TensorSpec(shape=(), dtype=tf.resource, name=None)\n",
            "  134560944395840: TensorSpec(shape=(), dtype=tf.resource, name=None)\n",
            "  134560944404816: TensorSpec(shape=(), dtype=tf.resource, name=None)\n",
            "  134560944400416: TensorSpec(shape=(), dtype=tf.resource, name=None)\n",
            "  134560944474416: TensorSpec(shape=(), dtype=tf.resource, name=None)\n",
            "  134560944474064: TensorSpec(shape=(), dtype=tf.resource, name=None)\n",
            "  134560944475824: TensorSpec(shape=(), dtype=tf.resource, name=None)\n",
            "  134560944472128: TensorSpec(shape=(), dtype=tf.resource, name=None)\n",
            "  134560944475296: TensorSpec(shape=(), dtype=tf.resource, name=None)\n",
            "  134560944478992: TensorSpec(shape=(), dtype=tf.resource, name=None)\n",
            "  134560944474240: TensorSpec(shape=(), dtype=tf.resource, name=None)\n",
            "  134560944478640: TensorSpec(shape=(), dtype=tf.resource, name=None)\n",
            "  134560944478464: TensorSpec(shape=(), dtype=tf.resource, name=None)\n",
            "  134560944472304: TensorSpec(shape=(), dtype=tf.resource, name=None)\n",
            "  134560944479872: TensorSpec(shape=(), dtype=tf.resource, name=None)\n",
            "  134560944483568: TensorSpec(shape=(), dtype=tf.resource, name=None)\n",
            "  134560944478816: TensorSpec(shape=(), dtype=tf.resource, name=None)\n",
            "  134560944483216: TensorSpec(shape=(), dtype=tf.resource, name=None)\n",
            "  134560944485856: TensorSpec(shape=(), dtype=tf.resource, name=None)\n",
            "  134560944475472: TensorSpec(shape=(), dtype=tf.resource, name=None)\n",
            "  134560944484448: TensorSpec(shape=(), dtype=tf.resource, name=None)\n",
            "  134560947814816: TensorSpec(shape=(), dtype=tf.resource, name=None)\n",
            "  134560947816224: TensorSpec(shape=(), dtype=tf.resource, name=None)\n",
            "  134560948601600: TensorSpec(shape=(), dtype=tf.resource, name=None)\n",
            "  134560948606528: TensorSpec(shape=(), dtype=tf.resource, name=None)\n"
          ]
        }
      ],
      "execution_count": null
    }
  ]
}